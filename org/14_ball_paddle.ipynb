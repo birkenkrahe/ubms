{
  "cells": [
    {
      "cell_type": "markdown",
      "metadata": {},
      "source": [
        "## Ball and paddle game in Python\n\n"
      ]
    },
    {
      "cell_type": "markdown",
      "metadata": {},
      "source": [
        "-   Games and animations are no small feat in Python. Compare the code\n    for the ball-and-paddle game [in Snap!](https://snap.berkeley.edu/project?username=birkenkrahe&projectname=Ball%20and%20paddle) with the Python version\n    ([in replit.com](https://replit.com/@birkenkrahe/BallAndPaddle) - with ball changing colors):\n    \n    ![img](../img/ballAndPaddle1.png) ![img](../img/ballAndPaddle2.png)\n\n"
      ]
    },
    {
      "cell_type": "markdown",
      "metadata": {},
      "source": [
        "## Turtle graphics\n\n"
      ]
    },
    {
      "cell_type": "markdown",
      "metadata": {},
      "source": [
        "-   Turtle graphics is a re-implementation of 1967 graphics for kids in\n    Python that works much like the Snap! turtle.\n\n-   At the start, the turtle is positioned at (0,0) of an x-y-grid. The\n    turtle draws as it moves across the canvas:\n\n"
      ]
    },
    {
      "cell_type": "code",
      "execution_count": 1,
      "metadata": {},
      "outputs": [],
      "source": [
        "import turtle as t   \ns = t.getscreen() # build the window\nt.right(90)\nt.forward(100)\nt.left(90)\nt.backward(100)\nt.goto(100,100)\nt.delay(100)\nt.circle(60)\nt.delay(100)\nt.dot(20)"
      ]
    },
    {
      "cell_type": "markdown",
      "metadata": {},
      "source": [
        "-   This game will not run in Colab because Turtle relies on tkinter, a\n    Python interface to the Tcl/Tk GUI toolkit. This is a standard on\n    Linux but as the error message in Colab shows, Colab cannot direct\n    its output to your screen to open a separate window:\n    \n        TclError: no display name and no $DISPLAY environment variable\n\n"
      ]
    },
    {
      "cell_type": "markdown",
      "metadata": {},
      "source": [
        "## Import libraries\n\n"
      ]
    },
    {
      "cell_type": "markdown",
      "metadata": {},
      "source": [
        "-   We need the `turtle` library and the `random` library:\n\n"
      ]
    },
    {
      "cell_type": "code",
      "execution_count": 1,
      "metadata": {},
      "outputs": [],
      "source": [
        "import turtle, random"
      ]
    }
  ],
  "metadata": [
    [
      "org"
    ],
    null,
    null
  ],
  "nbformat": 4,
  "nbformat_minor": 0
}